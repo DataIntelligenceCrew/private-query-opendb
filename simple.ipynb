{
 "cells": [
  {
   "cell_type": "code",
   "execution_count": 2,
   "id": "904e06ec",
   "metadata": {},
   "outputs": [
    {
     "data": {
      "text/plain": [
       "10.683"
      ]
     },
     "execution_count": 2,
     "metadata": {},
     "output_type": "execute_result"
    }
   ],
   "source": [
    "import pandas as pd\n",
    "import numpy as np\n",
    "\n",
    "column_names = [\n",
    "    'age', 'workclass', 'fnlwgt', 'education', 'education-num', 'marital-status',\n",
    "    'occupation', 'relationship', 'race', 'sex', 'capital-gain', 'capital-loss',\n",
    "    'hours-per-week', 'native-country', 'income'\n",
    "]\n",
    "\n",
    "adult = pd.read_csv('adult.data', names=column_names)\n",
    "\n",
    "unique_marital_statuses = adult['marital-status'].unique()\n",
    "\n",
    "def score(data, option):\n",
    "    return data.value_counts()[option]/1000\n",
    "\n",
    "score(adult['marital-status'], ' Never-married')\n",
    "\n"
   ]
  },
  {
   "cell_type": "code",
   "execution_count": 3,
   "id": "8acddeda",
   "metadata": {},
   "outputs": [
    {
     "name": "stdout",
     "output_type": "stream",
     "text": [
      "score [10.683, 14.976, 4.443, 0.418, 1.025, 0.023, 0.993]\n",
      "probs [1.03889314e-01 8.88758943e-01 4.58745793e-03 6.13132659e-04\n",
      " 8.30544344e-04 5.03247110e-04 8.17361380e-04]\n"
     ]
    },
    {
     "data": {
      "text/plain": [
       "' Married-civ-spouse'"
      ]
     },
     "execution_count": 3,
     "metadata": {},
     "output_type": "execute_result"
    }
   ],
   "source": [
    "def exponential(x, R, u, sensitivity, epsilon):\n",
    "    # Calculate the score for each element of R\n",
    "    scores = [u(x, r) for r in R]\n",
    "    print(\"score\", scores)\n",
    "    \n",
    "    # Calculate the probability for each element, based on its score\n",
    "    probabilities = [np.exp(epsilon * score / (2 * sensitivity)) for score in scores]\n",
    "    \n",
    "    # Normalize the probabilties so they sum to 1\n",
    "    probabilities = probabilities / np.linalg.norm(probabilities, ord=1)\n",
    "    \n",
    "    print(\"probs\", probabilities)\n",
    "\n",
    "    # Choose an element from R based on the probabilities\n",
    "    return np.random.choice(R, 1, p=probabilities)[0]\n",
    "\n",
    "\n",
    "exponential(adult['marital-status'], unique_marital_statuses, score, 1, 1)"
   ]
  },
  {
   "cell_type": "code",
   "execution_count": null,
   "id": "ad5ccd1b",
   "metadata": {},
   "outputs": [],
   "source": [
    "import pandas as pd\n",
    "import numpy as np\n",
    "import itertools\n",
    "\n",
    "# schema: R(A,B,C,D)\n",
    "# query: select agg(D) from R where T.A=2000 and T.B=30;\n",
    "\n",
    "dom_A = list(range(2000, 2024 + 1))\n",
    "dom_B = list(range(18, 40 + 1))\n",
    "\n",
    "def twoD_space(x, y): \n",
    "    return [(a, b) for a in x for b in y]\n",
    "\n",
    "def twoD_utility(space):\n",
    "    #space = twoD_space(x,y)\n",
    "    scores = [l1_distance(p1,p2) for p1 in space for p2 in space]\n",
    "    return [(s - min(scores))/(max(scores)-min(scores)) for s in scores]\n",
    "\n",
    "def l1_distance(p1,p2):\n",
    "    return sum(abs(a - b) for a, b in zip(p1, p2))\n",
    "\n",
    "print(twoD_space(dom_A,dom_B))\n",
    "#print(dom_A)\n",
    "\n",
    "\n",
    "\n"
   ]
  },
  {
   "cell_type": "code",
   "execution_count": null,
   "id": "9d0b2615",
   "metadata": {},
   "outputs": [],
   "source": []
  }
 ],
 "metadata": {
  "kernelspec": {
   "display_name": "Python 3 (ipykernel)",
   "language": "python",
   "name": "python3"
  },
  "language_info": {
   "codemirror_mode": {
    "name": "ipython",
    "version": 3
   },
   "file_extension": ".py",
   "mimetype": "text/x-python",
   "name": "python",
   "nbconvert_exporter": "python",
   "pygments_lexer": "ipython3",
   "version": "3.8.9"
  }
 },
 "nbformat": 4,
 "nbformat_minor": 5
}
